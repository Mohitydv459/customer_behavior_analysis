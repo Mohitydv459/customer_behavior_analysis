{
 "cells": [
  {
   "cell_type": "code",
   "execution_count": null,
   "id": "ca751595-38d7-4939-95ca-791965cc6c23",
   "metadata": {},
   "outputs": [],
   "source": [
    "import pandas as pd\n",
    "import numpy as np"
   ]
  },
  {
   "cell_type": "code",
   "execution_count": null,
   "id": "60e260c9-b9f3-458f-bc5d-cc15f31741d6",
   "metadata": {},
   "outputs": [],
   "source": [
    "data = pd.read_csv(\"customer_shopping_dataset.csv\")"
   ]
  },
  {
   "cell_type": "code",
   "execution_count": null,
   "id": "ee0c5312-7939-48b2-815a-7c984a57e840",
   "metadata": {
    "panel-layout": {
     "height": 0,
     "visible": true,
     "width": 100
    }
   },
   "outputs": [],
   "source": [
    "data.info()"
   ]
  },
  {
   "cell_type": "code",
   "execution_count": null,
   "id": "e77083af-57aa-4351-ae0f-d1be9d7526da",
   "metadata": {
    "panel-layout": {
     "height": 386,
     "visible": true,
     "width": 100
    }
   },
   "outputs": [],
   "source": [
    "data.describe(include = 'all')"
   ]
  },
  {
   "cell_type": "code",
   "execution_count": null,
   "id": "59968cb7-bba8-42e8-bfbf-96fd59351644",
   "metadata": {
    "panel-layout": {
     "height": 0,
     "visible": true,
     "width": 100
    }
   },
   "outputs": [],
   "source": [
    "data.columns = data.columns.str.lower()\n",
    "data.columns = data.columns.str.replace(\" \",\"_\")\n",
    "data.rename(columns={'purchase_amount_(usd)':'purchase_amount'},inplace=True)"
   ]
  },
  {
   "cell_type": "code",
   "execution_count": null,
   "id": "590dfa0b-8fc8-4f26-a7ac-dbfc7f34d053",
   "metadata": {
    "panel-layout": {
     "height": 512.4,
     "visible": true,
     "width": 100
    }
   },
   "outputs": [],
   "source": [
    "data.isnull().sum()"
   ]
  },
  {
   "cell_type": "code",
   "execution_count": null,
   "id": "ab53c40d-288e-45e1-bd7b-7e557d246a82",
   "metadata": {},
   "outputs": [],
   "source": [
    "# Filling missing value of 'review_rating' by the median of their respective category median\n",
    "data['review_rating'] = data['review_rating'].fillna(data.groupby('category')['review_rating'].transform('median'))"
   ]
  },
  {
   "cell_type": "code",
   "execution_count": null,
   "id": "b45cc0e1-f07b-4589-afad-198045b03fb9",
   "metadata": {},
   "outputs": [],
   "source": [
    "# Creating New Column 'age_group'\n",
    "labels = ['Young Adult','Adult','Middle-Aged','Senior']\n",
    "data['age_group'] = pd.qcut(data['age'],q=4,labels=labels) "
   ]
  },
  {
   "cell_type": "code",
   "execution_count": null,
   "id": "f728d1fa-0651-42ee-a438-3b69bf1245b6",
   "metadata": {
    "panel-layout": {
     "height": 301.2,
     "visible": true,
     "width": 100
    }
   },
   "outputs": [],
   "source": [
    "data[['age','age_group']].head(10)"
   ]
  },
  {
   "cell_type": "code",
   "execution_count": null,
   "id": "84bea056-9803-4383-b035-ffd8f622a886",
   "metadata": {},
   "outputs": [],
   "source": [
    "# create column purchase_frequency_days\n",
    "frequency_mapping = {'Fortnightly':14,\n",
    "                     'Weekly':7,\n",
    "                     'Annually':365,\n",
    "                     'Quarterly':90,\n",
    "                     'Bi-Weekly':14,\n",
    "                     'Monthly':30,\n",
    "                     'Every 3 Months':90}\n",
    "\n",
    "data['purchase_frequency_days'] = data['frequency_of_purchases'].map(frequency_mapping)"
   ]
  },
  {
   "cell_type": "code",
   "execution_count": null,
   "id": "81218dc9-9442-407d-9f6d-6d8d072cf9cb",
   "metadata": {
    "panel-layout": {
     "height": 301.2,
     "visible": true,
     "width": 100
    }
   },
   "outputs": [],
   "source": [
    "data[['frequency_of_purchases','purchase_frequency_days']].head(10)"
   ]
  },
  {
   "cell_type": "code",
   "execution_count": null,
   "id": "9a3e0afa-6e8a-4f1a-9a7b-54188302feb7",
   "metadata": {
    "panel-layout": {
     "height": 301.2,
     "visible": true,
     "width": 100
    }
   },
   "outputs": [],
   "source": [
    "data[['discount_applied','promo_code_used']].head(10)"
   ]
  },
  {
   "cell_type": "code",
   "execution_count": null,
   "id": "8e6fc5a1-0b8a-4250-a45b-d7ecbdaf01f7",
   "metadata": {
    "panel-layout": {
     "height": 27.1375,
     "visible": true,
     "width": 100
    }
   },
   "outputs": [],
   "source": [
    "(data['discount_applied'] == data['promo_code_used']).all()"
   ]
  },
  {
   "cell_type": "code",
   "execution_count": null,
   "id": "2ec18dbc-7442-40c6-881d-348d844a5655",
   "metadata": {},
   "outputs": [],
   "source": [
    "data = data.drop('promo_code_used',axis=1)"
   ]
  },
  {
   "cell_type": "code",
   "execution_count": null,
   "id": "51a4f496-d6be-4069-b68b-06cc247e4de5",
   "metadata": {
    "panel-layout": {
     "height": 112.825,
     "visible": true,
     "width": 100
    }
   },
   "outputs": [],
   "source": [
    "data.columns"
   ]
  },
  {
   "cell_type": "code",
   "execution_count": null,
   "id": "477c559d-10f0-4f2b-9d07-1e7cd49aa980",
   "metadata": {},
   "outputs": [],
   "source": [
    "# pip install sqlalchemy mysql-connector-python pandas\n"
   ]
  },
  {
   "cell_type": "code",
   "execution_count": null,
   "id": "6e067e59-f195-4dd5-99e9-dca81275bae6",
   "metadata": {
    "panel-layout": {
     "height": 27.1375,
     "visible": true,
     "width": 100
    }
   },
   "outputs": [],
   "source": [
    "# connecting jupyter notebook to MySQL database\n",
    "from sqlalchemy import create_engine\n",
    "\n",
    "USER = 'root'\n",
    "PASSWORD = '8949762644'\n",
    "HOST = 'localhost'\n",
    "PORT = '3306'\n",
    "DATABASE = 'customer_behaviour'\n",
    "\n",
    "# Create the connection string\n",
    "connection_string = f'mysql+mysqlconnector://{USER}:{PASSWORD}@{HOST}:{PORT}/{DATABASE}'\n",
    "\n",
    "# Create the SQLAlchemy engine\n",
    "try:\n",
    "    engine = create_engine(connection_string)\n",
    "    print(\"Successfully connected to MySQL!\")\n",
    "except Exception as e:\n",
    "    print(f\"Connection failed: {e}\")\n",
    "\n",
    "# Load dataframe into MySQL\n",
    "table_name = 'customer'\n",
    "data.to_sql(table_name,engine,if_exists='replace',index=False)"
   ]
  },
  {
   "cell_type": "code",
   "execution_count": null,
   "id": "c6540058-c216-4ed0-aa44-4b2b55be975a",
   "metadata": {},
   "outputs": [],
   "source": [
    "# data.to_csv(\"customer_shopping_dataset_updated.csv\",index=False)"
   ]
  },
  {
   "cell_type": "code",
   "execution_count": null,
   "id": "cdc2007e-44be-49e1-99df-3243c99b1870",
   "metadata": {},
   "outputs": [],
   "source": []
  }
 ],
 "metadata": {
  "kernelspec": {
   "display_name": "Python 3 (ipykernel)",
   "language": "python",
   "name": "python3"
  },
  "language_info": {
   "codemirror_mode": {
    "name": "ipython",
    "version": 3
   },
   "file_extension": ".py",
   "mimetype": "text/x-python",
   "name": "python",
   "nbconvert_exporter": "python",
   "pygments_lexer": "ipython3",
   "version": "3.13.5"
  },
  "panel-cell-order": [
   "ee0c5312-7939-48b2-815a-7c984a57e840",
   "59968cb7-bba8-42e8-bfbf-96fd59351644",
   "590dfa0b-8fc8-4f26-a7ac-dbfc7f34d053",
   "f728d1fa-0651-42ee-a438-3b69bf1245b6",
   "81218dc9-9442-407d-9f6d-6d8d072cf9cb",
   "9a3e0afa-6e8a-4f1a-9a7b-54188302feb7",
   "8e6fc5a1-0b8a-4250-a45b-d7ecbdaf01f7",
   "51a4f496-d6be-4069-b68b-06cc247e4de5",
   "6e067e59-f195-4dd5-99e9-dca81275bae6",
   "e77083af-57aa-4351-ae0f-d1be9d7526da"
  ]
 },
 "nbformat": 4,
 "nbformat_minor": 5
}
